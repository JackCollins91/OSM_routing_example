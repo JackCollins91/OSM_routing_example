{
 "cells": [
  {
   "cell_type": "code",
   "execution_count": null,
   "metadata": {},
   "outputs": [],
   "source": [
    "from pyrosm import OSM, get_data\n",
    "import geopandas as gpd\n",
    "import pandas as pd\n",
    "from sklearn.neighbors import BallTree\n",
    "import numpy as np\n",
    "import mapclassify as mc\n",
    "import matplotlib.pyplot as plt\n",
    "import time\n",
    "import networkx as nx\n",
    "import igraph as ig\n",
    "import osmnx as ox\n",
    "import folium\n",
    "import json"
   ]
  },
  {
   "cell_type": "code",
   "execution_count": null,
   "metadata": {},
   "outputs": [],
   "source": [
    "osm = OSM(get_data(\"Southern California\"))\n",
    "\n",
    "graph_type = {}\n",
    "\n",
    "n_drive,  e_drive = osm.get_network(nodes=True, network_type=\"driving\")\n",
    "n_cycling, e_cycling   = osm.get_network(nodes=True, network_type=\"cycling\")\n",
    "n_walk,   e_walk       = osm.get_network(nodes=True, network_type=\"walking\")\n",
    "n_service, e_service   = osm.get_network(nodes=True, network_type=\"driving+service\")\n",
    "\n",
    "graph_type['drive']     = ox.add_edge_travel_times(ox.add_edge_speeds(osm.to_graph(n_drive, e_drive,  graph_type=\"networkx\")), extra_kwargs={\"hv\":{\"car\":120}})\n",
    "graph_type['walk']   = ox.add_edge_travel_times(ox.add_edge_speeds(osm.to_graph(n_walk, e_walk, graph_type=\"networkx\")))\n",
    "graph_type['cycle']   = ox.add_edge_travel_times(ox.add_edge_speeds(osm.to_graph(n_cycling, e_cycling, graph_type=\"networkx\")))\n",
    "graph_type['service']   = ox.add_edge_travel_times(ox.add_edge_speeds(osm.to_graph(n_service, e_service, graph_type=\"networkx\")))\n",
    "\n",
    "\n",
    "\n",
    "def get_route(source_geo, dest_geo, go_type='drive', weight='travel_time',plot=True):\n",
    "    source_node = ox.get_nearest_node(graph_type[go_type], source_geo)\n",
    "    target_node = ox.get_nearest_node(graph_type[go_type], dest_geo)\n",
    "\n",
    "    route = nx.shortest_path(graph_type[go_type], source_node, target_node, weight=weight)\n",
    "    \n",
    "    edge_lengths = ox.utils_graph.get_route_edge_attributes(graph_type[go_type], route, 'length') \n",
    "    edge_travel_time = ox.utils_graph.get_route_edge_attributes( graph_type[go_type], route, 'travel_time') \n",
    "    total_route_length = round(sum(edge_lengths), 1)\n",
    "    route_travel_time  = round(sum(edge_travel_time)/60, 2)\n",
    "    if plot:\n",
    "      ox.plot_graph_route(graph_type[go_type], route, node_size=0, figsize=(40,40))\n",
    "    return route, total_route_length, route_travel_time"
   ]
  },
  {
   "cell_type": "code",
   "execution_count": null,
   "metadata": {},
   "outputs": [],
   "source": [
    "source_loc = (34.018255, -118.313290) # just for test you must get it from gps\n",
    "destination_loc = (34.1118016, -118.2848717)\n",
    "route, route_lenght, route_time = get_route(source_loc, destination_loc)"
   ]
  }
 ],
 "metadata": {
  "kernelspec": {
   "display_name": "venv",
   "language": "python",
   "name": "python3"
  },
  "language_info": {
   "codemirror_mode": {
    "name": "ipython",
    "version": 3
   },
   "file_extension": ".py",
   "mimetype": "text/x-python",
   "name": "python",
   "nbconvert_exporter": "python",
   "pygments_lexer": "ipython3",
   "version": "3.10.11"
  },
  "orig_nbformat": 4
 },
 "nbformat": 4,
 "nbformat_minor": 2
}
